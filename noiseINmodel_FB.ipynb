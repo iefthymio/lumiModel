{
 "cells": [
  {
   "cell_type": "code",
   "execution_count": 2,
   "metadata": {},
   "outputs": [],
   "source": [
    "import numpy as np\n",
    "from matplotlib import pyplot as plt\n",
    "from scipy.integrate import quad"
   ]
  },
  {
   "cell_type": "code",
   "execution_count": 3,
   "metadata": {},
   "outputs": [],
   "source": [
    "def getLebedevFB(dmu,delta,dGain,deltaBPM):\n",
    "    growths = np.zeros_like(dGain)\n",
    "    for i in range(len(dGain)):\n",
    "        #dmu = 0.025 #DQ_FB= 0.295-0.27=0.025\n",
    "        #print dmu\n",
    "        relGrowth0 = (delta**2+(dGain[i]*deltaBPM)**2)/2\n",
    "        f = lambda x : (4*np.pi**2*(1-dGain[i]/2)**2*x**2)*np.exp(-x**2/(2.0*dmu**2))/((4*np.pi**2*(1-dGain[i]/2)*x**2+(dGain[i]/2)**2)*np.sqrt(2*np.pi)*dmu)\n",
    "        integral = quad(f,-10*dmu,10*dmu)\n",
    "        growths[i] = relGrowth0*integral[0]\n",
    "    return growths"
   ]
  },
  {
   "cell_type": "code",
   "execution_count": 6,
   "metadata": {},
   "outputs": [],
   "source": [
    "#FB\n",
    "# !!! keep in mind that, due to the peakup resolution, it should be that beamsize*delta_bpm is same at FB and at FT energy !!!!!!!!!!!\n",
    "theGainFB=0.1\n",
    "gains = np.arange(0.0,0.2,0.001)\n",
    "\n",
    "#emitFB_hb1 = 1.38E-6\n",
    "#emitFB_vb1 = 1.32E-6\n",
    "#emitFB_hb2 = 1.41E-6\n",
    "#emitFB_vb2 = 1.35E-6    \n",
    "    \n",
    "def getNoiseGrowthFB(energy=None, emitFB=None, emitSB=None, betaFB=None, betaSB=None, delta=None, deltaBPM_SB=None):\n",
    "\n",
    "    # if we assume dmu = 0.025 from the machine (with ecloud) then for theGainFB=0.1, \n",
    "    \n",
    "    beamSize_SB=np.sqrt(emitSB*betaSB/gammaSB)\n",
    "    beamSize_FB=np.sqrt(emitFB*betaFB/gammaFB)\n",
    "\n",
    "    # due to the peakup resolution, it should be that beamsize*delta_bpm is same at FB and at FT energy\n",
    "    # so beamSize_FB*delta_BPM_FB=beamSize_SB*delta_BPM_SB\n",
    "    deltaBPM_FB=beamSize_SB*deltaBPM_SB/beamSize_FB\n",
    "\n",
    "    growthsFB= getLebedevFB(dmu,delta,gains,deltaBPM_FB)*frev*3600.0*100.0 # rel. emit growth in %/h\n",
    "    #print growthsFB\n",
    "    getGrowthFB=growthsFB[gains==theGainFB]\n",
    "    \n",
    "    return getGrowthFB,  deltaBPM_FB     "
   ]
  },
  {
   "cell_type": "code",
   "execution_count": null,
   "metadata": {},
   "outputs": [],
   "source": []
  }
 ],
 "metadata": {
  "kernelspec": {
   "display_name": "Python 2",
   "language": "python",
   "name": "python2"
  },
  "language_info": {
   "codemirror_mode": {
    "name": "ipython",
    "version": 2
   },
   "file_extension": ".py",
   "mimetype": "text/x-python",
   "name": "python",
   "nbconvert_exporter": "python",
   "pygments_lexer": "ipython2",
   "version": "2.7.16"
  }
 },
 "nbformat": 4,
 "nbformat_minor": 2
}
