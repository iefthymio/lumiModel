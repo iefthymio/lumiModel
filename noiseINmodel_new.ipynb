{
 "cells": [
  {
   "cell_type": "code",
   "execution_count": null,
   "metadata": {},
   "outputs": [],
   "source": [
    "import numpy as np\n",
    "from matplotlib import pyplot as plt\n",
    "from scipy.integrate import quad"
   ]
  },
  {
   "cell_type": "code",
   "execution_count": null,
   "metadata": {},
   "outputs": [],
   "source": [
    "def findxi(beta,emit,gamma,intensity,sigs,r0,xing):\n",
    "    sigx = np.sqrt(beta*emit/gamma)\n",
    "    redFact = 1.0/np.sqrt(1.0+(sigs*np.tan(xing/2)/sigx)**2)\n",
    "    xi = intensity*r0*redFact/(2.0*np.pi*emit)\n",
    "    return xi"
   ]
  },
  {
   "cell_type": "code",
   "execution_count": 9,
   "metadata": {},
   "outputs": [],
   "source": [
    "def getLebedev(xi,delta,dGain,deltaBPM,dmu):\n",
    "    growths = np.zeros_like(dGain)\n",
    "                \n",
    "    for i in range(len(dGain)):\n",
    "        #tune shift decreasing and noise increasing\n",
    "        #contribution of adt increasing with intensity ^2 and xi change due to nb change\n",
    "        #http://lhcinstability.web.cern.ch/lhcinstability/Presentations/2018-05-25-lhcim_oeftiger_report.pdf\n",
    "        #http://lhcinstability.web.cern.ch/lhcinstability/\n",
    "        #https://indico.cern.ch/event/754955/contributions/3128565/attachments/1709927/2756334/2018.08.22-29_LHCIM_Weeksummary.pdf\n",
    "        relGrowth0 = (delta**2+(dGain[i]*deltaBPM)**2)/2\n",
    "        f = lambda x : (4*np.pi**2*(1-dGain[i]/2)**2*x**2)*np.exp(-x**2/(2.0*dmu**2))/((4*np.pi**2*(1-dGain[i]/2)*x**2+(dGain[i]/2)**2)*np.sqrt(2*np.pi)*dmu)\n",
    "        integral = quad(f,-10*dmu,10*dmu)\n",
    "        growths[i] = relGrowth0*integral[0]\n",
    "    return growths"
   ]
  },
  {
   "cell_type": "code",
   "execution_count": 11,
   "metadata": {},
   "outputs": [],
   "source": [
    "#deltaBPMnow=deltaBPM*(1.2e11/Inow)^k for k=1/2?\n",
    "def getNoiseGrowth(energy=None, sigs=None, intensity=None, emit=None, xing=None, beta=None, delta=None, deltaBPM_SB=None,sigmaElastic_m2=None):\n",
    "    gamma = energy/0.938  \n",
    "    #dmu for non-colliding\n",
    "    #dmu_nonHILUMI = 9.3e-5 #varies linearly with 2.5emit, 570A  and 1/7TeV, so.... https://cds.cern.ch/record/2301292/files/CERN-ACC-NOTE-2018-0002.pdf\n",
    "    #print emit\n",
    "    dmu_non = dmu_non_factor*emit #LHC estimation\n",
    "    #k=1./2. #this value would be more or less the same for both planes and beams\n",
    "    #k=1.0\n",
    "    deltaBPMnow=deltaBPM_SB*(1.2e11/intensity)**k #for k=1/2? 1.2 is the reference intensity for which we have optimized, not the 2e11 of the MD\n",
    "    #energy = 6500.0\n",
    "    #sigs = 0.0824 #for 1.1ns\n",
    "    #intensity = 1.08E11 #for 2018 intens. at SB\n",
    "    #emit = 1.9E-6 #for 2018 emit at SB     # for the MD: 2.3E-6\n",
    "    #xing = 2*160e-6\n",
    "    #beta = 0.3 #we use the betastar that is 30 cm , since it is used for the emit. in the xi calculation\n",
    "    '''\n",
    "    sigx = np.sqrt(beta*emit/gamma)\n",
    "    ## approx formula for the total tune shift (2IPs) with (alternating) crossing angles\n",
    "    redFact = 1.0/np.sqrt(1.0+(sigs*np.tan(xing/2)/sigx)**2)\n",
    "    xi = intensity*r0*redFact/(2.0*np.pi*emit)\n",
    "    '''\n",
    "    #print beta,emit,gamma,intensity,sigs,r0,xing\n",
    "    #if sigmaElastic_m2 != 0: #colliding \n",
    "    #print beta,emit,gamma,intensity,sigs,r0,xing   \n",
    "    xi=findxi(beta,emit,gamma,intensity,sigs,r0,xing)\n",
    "    \n",
    "    #xi_vb1=findxi(beta,emit,gamma,intensity,sigs,r0,xing)\n",
    "    #xi_hb2=findxi(beta,emit,gamma,intensity,sigs,r0,xing)\n",
    "    #xi_vb2=findxi(beta,emit,gamma,intensity,sigs,r0,xing)\n",
    "    #else:                    #non-colliding \n",
    "    #    xi=0\n",
    "    #    xi_hb1=0\n",
    "    #    xi_vb1=0\n",
    "    #    xi_hb2=0\n",
    "    #    xi_vb2=0\n",
    "        \n",
    "    #xi = 0.02\n",
    "    #print sigmaElastic_m2\n",
    "    if sigmaElastic_m2 != 0: #colliding \n",
    "        #print 'xi',xi\n",
    "        dmu = 0.168*xi #octupoles?\n",
    "        #print 'dmu col:',dmu\n",
    "    else:                    #non-colliding \n",
    "        dmu = dmu_non\n",
    "        #print 'dmu non-col:',dmu\n",
    "    #print deltaBPMnow    \n",
    "    growthsFT= getLebedev(xi,delta,gains,deltaBPMnow,dmu)*frev*3600*100 # rel. emit growth in %/h\n",
    "    #growthsFT_vb1 = getLebedev(xi_vb1,delta_vb1,gains,deltaBPM_SB_vb1)*frev*3600*100 # rel. emit growth in %/h\n",
    "    #growthsFT_hb2 = getLebedev(xi_hb2,delta_hb2,gains,deltaBPM_SB_hb2)*frev*3600*100 # rel. emit growth in %/h\n",
    "    #growthsFT_vb2 = getLebedev(xi_vb2,delta_vb2,gains,deltaBPM_SB_vb2)*frev*3600*100 # rel. emit growth in %/h\n",
    "    \n",
    "    getGrowth=growthsFT[gains==theGainFT]\n",
    "    #getGrowth_vb1=growthsFT_vb1[gains==theGainFT]\n",
    "    #getGrowth_hb2=growthsFT_hb2[gains==theGainFT]\n",
    "    #getGrowth_vb2=growthsFT_vb2[gains==theGainFT]\n",
    "    \n",
    "    #print getGrowth_hb1, getGrowth_vb1\n",
    "    #print 'HB1 noiseGrowth at SB:',float(emit*getGrowth_hb1/100)*1e6,'um/h'\n",
    "    #print 'VB1 noiseGrowth at SB:',float(emit*getGrowth_vb1/100)*1e6,'um/h'\n",
    "    #print 'HB2 noiseGrowth at SB:',float(emit*getGrowth_hb2/100)*1e6,'um/h'\n",
    "    #print 'VB2 noiseGrowth at SB:',float(emit*getGrowth_vb2/100)*1e6,'um/h'\n",
    "    \n",
    "    return getGrowth,deltaBPMnow,xi"
   ]
  },
  {
   "cell_type": "code",
   "execution_count": null,
   "metadata": {},
   "outputs": [],
   "source": []
  }
 ],
 "metadata": {
  "kernelspec": {
   "display_name": "Python 2",
   "language": "python",
   "name": "python2"
  },
  "language_info": {
   "codemirror_mode": {
    "name": "ipython",
    "version": 2
   },
   "file_extension": ".py",
   "mimetype": "text/x-python",
   "name": "python",
   "nbconvert_exporter": "python",
   "pygments_lexer": "ipython2",
   "version": "2.7.16"
  }
 },
 "nbformat": 4,
 "nbformat_minor": 2
}
