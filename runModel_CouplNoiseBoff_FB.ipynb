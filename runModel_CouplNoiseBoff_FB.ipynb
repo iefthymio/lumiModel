{
 "cells": [
  {
   "cell_type": "code",
   "execution_count": 1,
   "metadata": {},
   "outputs": [],
   "source": [
    "#%run -i ~/myLibrary/init.ipynb\n",
    "from scipy.special   import erfc\n",
    "from scipy.integrate import cumtrapz\n",
    "from math import *\n",
    "from scipy.constants import c\n",
    "import matplotlib.gridspec as gridspec\n",
    "from scipy.optimize import fsolve\n",
    "import numpy as np\n",
    "import matplotlib.pyplot as pl\n",
    "import pickle, gzip\n",
    "import matplotlib.pyplot as plt\n",
    "na = np.array\n",
    "from scipy.constants import c as clight"
   ]
  },
  {
   "cell_type": "code",
   "execution_count": 36,
   "metadata": {},
   "outputs": [],
   "source": [
    "# parameters\n",
    "energyFB = 450.0\n",
    "gammaFB = energyFB/0.938\n",
    "energySB = 6500.0\n",
    "gammaSB = energySB/0.938\n",
    "r0 = 1.535E-18\n",
    "frev=11245.5\n",
    "gamma = 479.74  #450GeV\n",
    "VRF = 6.0e6    # RF Voltage at flat bottom (in V) #on the 6Dec18 Stef ran the lumimod for dif. VRF values, since for 7035- there were RF voltage reduction steps from 6 to 4MV. We stayed with 4 MV ever since fill 7092.\n",
    "tauSRxy_s  = np.inf    # damping times due to synchrotron radiation at FB energy (in s) for transverse plane\n",
    "\n",
    "#for coupling\n",
    "coupl_coef_FB   = 0.0015    # Linear coupling coefficient for Model in FB\n",
    "delta_ts_FB = 0.025     # Unperturbed tune split in FB\n",
    "\n",
    "#for noise\n",
    "# !!! keep in mind that, due to the peakup resolution, it should be that beamsize*delta_bpm is same at FB and at FT energy !!!!!!!!!!!\n",
    "theGainFB=0.1\n",
    "#noise floor of the machine at FT, this should change at FB-> if noise comes from the screen vibration then delta∝field∝energy and so ...\n",
    "Eratio=(energySB/energyFB)**0.25\n",
    "Eratio=1.0\n",
    "delta_hb1 = 3.8e-5*Eratio\n",
    "delta_vb1 = 5.3e-5*Eratio\n",
    "delta_hb2 = 4.4e-5*Eratio\n",
    "delta_vb2 = 5.6e-5*Eratio\n",
    "#noise BPM, for deltaBPM_FB=beamSize_SB*deltaBPM_SB/beamSize_FB\n",
    "deltaBPM_SB_hb1 = 220.0e-5\n",
    "deltaBPM_SB_vb1 = 250.0e-5\n",
    "deltaBPM_SB_hb2 = 190.0e-5\n",
    "deltaBPM_SB_vb2 = 210.0e-5\n",
    "\n",
    "#sigs = 0.09\n",
    "#intensity = 1.1E11\n",
    "#dppFB=0.00026\n",
    "#dqp_tuneFB=15.15\n",
    "#dmu = dppFB*dqp_tuneFB #with no ecloud\n",
    "dmu = 0.025 #with ecloud,DQ_FB= 0.295-0.27=0.025"
   ]
  },
  {
   "cell_type": "code",
   "execution_count": 37,
   "metadata": {},
   "outputs": [
    {
     "name": "stdout",
     "output_type": "stream",
     "text": [
      "1.94950884849 7.40813362425e-05\n"
     ]
    }
   ],
   "source": [
    "print Eratio,delta_hb1"
   ]
  },
  {
   "cell_type": "code",
   "execution_count": 26,
   "metadata": {},
   "outputs": [
    {
     "name": "stdout",
     "output_type": "stream",
     "text": [
      "479.744136461 6929.63752665\n"
     ]
    }
   ],
   "source": [
    "#%run -i emit_model_elastic_scattering.ipynb\n",
    "%run -i IBSmodel_GY.ipynb\n",
    "%run -i noiseINmodel_FB.ipynb\n",
    "#%run -i LumiModel_CouplNoiseBoff_2.ipynb"
   ]
  },
  {
   "cell_type": "code",
   "execution_count": 27,
   "metadata": {},
   "outputs": [],
   "source": [
    "filln = 7334\n",
    "coupling=1\n",
    "noiseGrowth=1"
   ]
  },
  {
   "cell_type": "code",
   "execution_count": 5,
   "metadata": {},
   "outputs": [
    {
     "name": "stdout",
     "output_type": "stream",
     "text": [
      "['at_start', 'evolution', 't_start', 'at_end', 'filled_slots', 't_end']\n"
     ]
    }
   ],
   "source": [
    "with gzip.open('/eos/project/l/lhc-lumimod/LuminosityFollowUp/2018/procdata/fill_%d/fill_%d_cycle.pkl.gz'%(filln, filln), 'rb') as fid:\n",
    "    filln_CycleDict = pickle.load(fid)\n",
    "print    filln_CycleDict['beam_2']['Injection'].keys()\n",
    "\n",
    "with gzip.open('/eos/project/l/lhc-lumimod/LuminosityFollowUp/2018/procdata/fill_%d/fill_%d.pkl.gz'%(filln, filln), 'rb') as fid:\n",
    "    dict_fill_SB = pickle.load(fid)"
   ]
  },
  {
   "cell_type": "code",
   "execution_count": 28,
   "metadata": {},
   "outputs": [
    {
     "name": "stdout",
     "output_type": "stream",
     "text": [
      "55.733330897490184 60.18333859841029\n"
     ]
    }
   ],
   "source": [
    "#time each bunch stayed at FB [min]\n",
    "tFB_bbb1=(na(filln_CycleDict['beam_1']['Injection']['at_end']['time_meas'])-na(filln_CycleDict['beam_1']['Injection']['at_start']['time_meas']))/60.0\n",
    "tFB_bbb2=(na(filln_CycleDict['beam_2']['Injection']['at_end']['time_meas'])-na(filln_CycleDict['beam_2']['Injection']['at_start']['time_meas']))/60.0\n",
    "print tFB_bbb1[1],tFB_bbb2[1]"
   ]
  },
  {
   "cell_type": "code",
   "execution_count": 29,
   "metadata": {},
   "outputs": [
    {
     "name": "stdout",
     "output_type": "stream",
     "text": [
      "  HB1      VB1      HB2      VB2\n",
      "1.84e-06 2.03e-06 1.85e-06 1.92e-06\n"
     ]
    }
   ],
   "source": [
    "#!give as input to the getNoiseGrowthFB the emittance at FT!\n",
    "#average emit. over all colliding bunches at start of SB\n",
    "ex1_SBi =  np.nanmean(dict_fill_SB['eh_interp_coll'][1][0]*1.0e-6)\n",
    "ey1_SBi =  np.nanmean(dict_fill_SB['ev_interp_coll'][1][0]*1.0e-6)\n",
    "ex2_SBi =  np.nanmean(dict_fill_SB['eh_interp_coll'][2][0]*1.0e-6)\n",
    "ey2_SBi =  np.nanmean(dict_fill_SB['ev_interp_coll'][2][0]*1.0e-6)\n",
    "print ' ',\"HB1\",\"    \",\"VB1\",\"    \",\"HB2\",\"    \",\"VB2\"\n",
    "print round(ex1_SBi,8),round(ey1_SBi,8),round(ex2_SBi,8),round(ey2_SBi,8)"
   ]
  },
  {
   "cell_type": "code",
   "execution_count": 30,
   "metadata": {},
   "outputs": [
    {
     "name": "stdout",
     "output_type": "stream",
     "text": [
      "Using calibration 2018-D\n",
      "           HB1   VB1   HB2   VB2\n",
      "betas FB: 204.2 292.4 193.6 343.3\n",
      "betas SB: 201.5 287.0 196.0 351.0\n"
     ]
    }
   ],
   "source": [
    "#!find betas from BSRT for 2017 and 2018!\n",
    "%run -i betasBSRT.ipynb\n",
    "\n",
    "bx1_FB = e_dict['betaf_h'][450][1]\n",
    "by1_FB = e_dict['betaf_v'][450][1]\n",
    "bx2_FB = e_dict['betaf_h'][450][2]\n",
    "by2_FB = e_dict['betaf_v'][450][2]\n",
    "\n",
    "bx1_SB = e_dict['betaf_h'][6500][1]\n",
    "by1_SB = e_dict['betaf_v'][6500][1]\n",
    "bx2_SB = e_dict['betaf_h'][6500][2]\n",
    "by2_SB = e_dict['betaf_v'][6500][2]\n",
    "\n",
    "print '          ',\"HB1\",\" \",\"VB1\",\" \",\"HB2\",\" \",\"VB2\"\n",
    "print 'betas FB:',bx1_FB,by1_FB,bx2_FB,by2_FB\n",
    "print 'betas SB:',bx1_SB,by1_SB,bx2_SB,by2_SB"
   ]
  },
  {
   "cell_type": "code",
   "execution_count": 38,
   "metadata": {
    "scrolled": false
   },
   "outputs": [
    {
     "name": "stdout",
     "output_type": "stream",
     "text": [
      "~with no coupling, coupl_coef= 0\n",
      "beam 1\n",
      "beam 2\n",
      "~with coupling, coupl_coef= 0.0015\n",
      "adding also noise effect\n"
     ]
    },
    {
     "name": "stderr",
     "output_type": "stream",
     "text": [
      "/usr/local/bin/start_ipykernel.py:231: RuntimeWarning: divide by zero encountered in power\n",
      "/usr/local/bin/start_ipykernel.py:244: RuntimeWarning: divide by zero encountered in divide\n",
      "/usr/local/bin/start_ipykernel.py:245: RuntimeWarning: invalid value encountered in multiply\n",
      "/usr/local/bin/start_ipykernel.py:239: RuntimeWarning: invalid value encountered in power\n",
      "/usr/local/bin/start_ipykernel.py:240: RuntimeWarning: invalid value encountered in power\n",
      "/usr/local/bin/start_ipykernel.py:7: RuntimeWarning: invalid value encountered in double_scalars\n",
      "/usr/local/bin/start_ipykernel.py:8: IntegrationWarning: The occurrence of roundoff error is detected, which prevents \n",
      "  the requested tolerance from being achieved.  The error may be \n",
      "  underestimated.\n",
      "/usr/local/bin/start_ipykernel.py:113: RuntimeWarning: invalid value encountered in subtract\n"
     ]
    },
    {
     "name": "stdout",
     "output_type": "stream",
     "text": [
      "beam 1\n",
      "beam 2\n",
      "save pkl no coupling\n",
      "save pkl with coupling & noise\n"
     ]
    }
   ],
   "source": [
    "dict_model          = {}\n",
    "dict_model_coupling = {}\n",
    "\n",
    "for coupling in [0,1]:\n",
    "    \n",
    "    if coupling != 0:\n",
    "        c_fact_FB   = coupl_coef_FB   \n",
    "        print \"~with coupling, coupl_coef=\",c_fact_FB\n",
    "        if noiseGrowth:\n",
    "            print\"adding also noise effect\"\n",
    "    else:\n",
    "        c_fact_FB   = 0\n",
    "        print \"~with no coupling, coupl_coef=\",c_fact_FB\n",
    "        \n",
    "                        \n",
    "    # dict with coupling\n",
    "    #if c_fact_FB != 0:\n",
    "    #    dict_model_coupling = {}\n",
    "        # for coupling with the evo of parameters\n",
    "        #dict_model_coupling_cont = {}\n",
    "    for beam_n in [1, 2]:\n",
    "        dict_model['beam_{}'.format(beam_n)] = {}\n",
    "        # dict with coupling\n",
    "        dict_model_coupling['beam_{}'.format(beam_n)] = {}\n",
    "        dict_model_coupling['Cfactor'] = c_fact_FB\n",
    "        dict_model_coupling['Delta']   = delta_ts_FB                                        \n",
    "                                            \n",
    "        for interval in ['Injection', 'he_before_SB']:\n",
    "            dict_model['beam_{}'.format(beam_n)][interval] = {}\n",
    "            dict_model['beam_{}'.format(beam_n)][interval]['filled_slots'] = filln_CycleDict['beam_{}'.format(beam_n)][interval]['filled_slots']\n",
    "            dict_model['beam_{}'.format(beam_n)][interval]['at_start']={}\n",
    "            # dict with coupling\n",
    "            if c_fact_FB != 0:\n",
    "                dict_model_coupling['beam_{}'.format(beam_n)][interval] = {}\n",
    "                dict_model_coupling['beam_{}'.format(beam_n)][interval]['filled_slots'] = filln_CycleDict['beam_{}'.format(beam_n)][interval]['filled_slots']\n",
    "                dict_model_coupling['beam_{}'.format(beam_n)][interval]['at_start']={}\n",
    "                \n",
    "            for param in ['time_meas', 'emith', 'blength', 'emitv']:\n",
    "                dict_model['beam_{}'.format(beam_n)][interval]['at_start'][param] = filln_CycleDict['beam_{}'.format(beam_n)][interval]['at_start'][param]\n",
    "                # dict with coupling\n",
    "                dex_noisee=0\n",
    "                dey_noisee=0\n",
    "                if c_fact_FB != 0:\n",
    "                    dict_model_coupling['beam_{}'.format(beam_n)][interval]['at_start'][param] = filln_CycleDict['beam_{}'.format(beam_n)][interval]['at_start'][param]\n",
    "                    \n",
    "                    #making the calculations to find the noise growth\n",
    "                    ex_norm_m1=np.array(filln_CycleDict['beam_1']['Injection']['at_start']['emith'])*1.0e-06 \n",
    "                    ey_norm_m1=np.array(filln_CycleDict['beam_1']['Injection']['at_start']['emitv'])*1.0e-06 \n",
    "                    ex_norm_m2=np.array(filln_CycleDict['beam_2']['Injection']['at_start']['emith'])*1.0e-06 \n",
    "                    ey_norm_m2=np.array(filln_CycleDict['beam_2']['Injection']['at_start']['emitv'])*1.0e-06 \n",
    "                    \n",
    "                    getGrowth_hb1,deltaBPM_FB_hb1= getNoiseGrowthFB(energy=gamma*0.938, emitFB=np.nanmean(ex_norm_m1), emitSB=ex1_SBi, betaFB=bx1_FB, betaSB=bx1_SB, delta=delta_hb1, deltaBPM_SB=deltaBPM_SB_hb1)\n",
    "                    getGrowth_vb1,deltaBPM_FB_vb1= getNoiseGrowthFB(energy=gamma*0.938, emitFB=np.nanmean(ey_norm_m1), emitSB=ey1_SBi, betaFB=by1_FB, betaSB=by1_SB, delta=delta_vb1, deltaBPM_SB=deltaBPM_SB_vb1)\n",
    "                    getGrowth_hb2,deltaBPM_FB_hb2= getNoiseGrowthFB(energy=gamma*0.938, emitFB=np.nanmean(ex_norm_m2), emitSB=ex2_SBi, betaFB=bx2_FB, betaSB=bx2_SB, delta=delta_hb2, deltaBPM_SB=deltaBPM_SB_hb2)\n",
    "                    getGrowth_vb2,deltaBPM_FB_vb2= getNoiseGrowthFB(energy=gamma*0.938, emitFB=np.nanmean(ey_norm_m2), emitSB=ey2_SBi, betaFB=by2_FB, betaSB=by2_SB, delta=delta_vb2, deltaBPM_SB=deltaBPM_SB_vb2)\n",
    "                    #print getGrowth_hb1,getGrowth_vb1,getGrowth_hb2,getGrowth_vb2\n",
    "                    #print deltaBPM_FB_hb1,deltaBPM_FB_vb1,deltaBPM_FB_hb2,deltaBPM_FB_vb2\n",
    "                    if noiseGrowth:#emittance growth due to noise, apply for both colliding and non-colliding\n",
    "                    #the noise growths are assumed to be constant along the fill, because there is the balance between the variation of the intensity and the adt impact                    \n",
    "                    #improve this by giving the input parameters to the noise formula, so that to get the exact growths for each case\n",
    "                    #theNoiseGrowths=na([0.038,0.057,0.036,0.05])                         \n",
    "                        dex_noisee1=ex_norm_m1*getGrowth_hb1/100.0*(tFB_bbb1/60.0) #tFB_bbb1 is in min\n",
    "                        dey_noisee1=ey_norm_m1*getGrowth_vb1/100.0*(tFB_bbb1/60.0)\n",
    "                        dex_noisee2=ex_norm_m2*getGrowth_hb2/100.0*(tFB_bbb2/60.0)\n",
    "                        dey_noisee2=ey_norm_m2*getGrowth_vb2/100.0*(tFB_bbb2/60.0)      \n",
    "                        #print '~',dex_noise1\n",
    "                        #dex_noise1=0.003166667*1e-06;dey_noise1=0.00475*1e-06;dex_noise2=0.003*1e-06;dey_noise2=0.004166667*1e-06; #the growth in um for 5min\n",
    "                        \n",
    "                        #ex_IBS_norm_m1 = ex_IBS_norm_m1  +  dex_noisee1\n",
    "                        #ey_IBS_norm_m1 = ey_IBS_norm_m1  +  dey_noisee1\n",
    "                        #ex_IBS_norm_m2 = ex_IBS_norm_m2  +  dex_noisee2\n",
    "                        #ey_IBS_norm_m2 = ey_IBS_norm_m2  +  dey_noisee2    \n",
    "                    else:\n",
    "                        dex_noisee1=0;\n",
    "                        dey_noisee1=0;\n",
    "                        dex_noisee2=0;\n",
    "                        dey_noisee2=0;         \n",
    "                            \n",
    "                    #print 'hb1->',np.mean(dex_noisee1),deltaBPM_FB_hb1\n",
    "                    #print 'vb1->',np.mean(dey_noisee1),deltaBPM_FB_vb1\n",
    "                    #print 'hb2->',np.mean(dex_noisee2),deltaBPM_FB_hb2\n",
    "                    #print 'vb2->',np.mean(dey_noisee2),deltaBPM_FB_vb2\n",
    "            \n",
    "                    if beam_n==1:\n",
    "                        dex_noisee=dex_noisee1\n",
    "                        dey_noisee=dey_noisee1\n",
    "                    elif beam_n==2:\n",
    "                        dex_noisee=dex_noisee2\n",
    "                        dey_noisee=dey_noisee2\n",
    "                        \n",
    "                emit_h_IBS_end, IBSx, bl_IBS_end, IBSl, emit_y_IBS_end = IBSmodel(IBSON=1, gamma=gamma,\n",
    "                    bunch_intensity_p = np.array(filln_CycleDict['beam_{}'.format(beam_n)][interval]['at_start']['intensity']),\n",
    "                    ex_norm_m         = np.array(filln_CycleDict['beam_{}'.format(beam_n)][interval]['at_start']['emith'])*1.0e-06,\n",
    "                    ey_norm_m         = np.array(filln_CycleDict['beam_{}'.format(beam_n)][interval]['at_start']['emitv'])*1.0e-06,\n",
    "                    bl_4sigma_s       = np.array(filln_CycleDict['beam_{}'.format(beam_n)][interval]['at_start']['blength']),\n",
    "                    VRF_V             = VRF,\n",
    "                    dt_s              = (np.array(filln_CycleDict['beam_{}'.format(beam_n)][interval]['at_end']['time_meas'])-np.array(filln_CycleDict['beam_{}'.format(beam_n)][interval]['at_start']['time_meas'])))\n",
    "                \n",
    "            # no coupling\n",
    "            dict_model['beam_{}'.format(beam_n)][interval]['at_end']               = {}\n",
    "            dict_model['beam_{}'.format(beam_n)][interval]['at_end']['emith']      = emit_h_IBS_end*1.0e06\n",
    "            dict_model['beam_{}'.format(beam_n)][interval]['at_end']['emitv']      = emit_y_IBS_end*1.0e06\n",
    "            dict_model['beam_{}'.format(beam_n)][interval]['at_end']['blength']    = bl_IBS_end\n",
    "            dict_model['beam_{}'.format(beam_n)][interval]['at_end']['time_meas']  = filln_CycleDict['beam_{}'.format(beam_n)][interval]['at_end']['time_meas']                \n",
    "              \n",
    "            \n",
    "            # Calculating emittances with coupling\n",
    "            if c_fact_FB != 0:\n",
    "                                    \n",
    "                Cfactor          = c_fact_FB**2/2/(delta_ts_FB**2+c_fact_FB**2)\n",
    "                dexy             = emit_h_IBS_end - emit_y_IBS_end\n",
    "    \n",
    "                C_emit_h_IBS_end = emit_h_IBS_end - dexy*Cfactor\n",
    "                C_emit_y_IBS_end = emit_y_IBS_end + dexy*Cfactor\n",
    "            \n",
    "                #adding noise\n",
    "                #either we call the noise here or before the coupling, it's the same thing\n",
    "                \n",
    "                if noiseGrowth:\n",
    "                    C_emit_h_IBS_end=C_emit_h_IBS_end+dex_noisee\n",
    "                    C_emit_y_IBS_end=C_emit_y_IBS_end+dey_noisee     \n",
    "                    \n",
    "                dict_model_coupling['beam_{}'.format(beam_n)][interval]['at_end']               = {}\n",
    "                dict_model_coupling['beam_{}'.format(beam_n)][interval]['at_end']['emith']      = C_emit_h_IBS_end*1.0e06\n",
    "                dict_model_coupling['beam_{}'.format(beam_n)][interval]['at_end']['emitv']      = C_emit_y_IBS_end*1.0e06\n",
    "                dict_model_coupling['beam_{}'.format(beam_n)][interval]['at_end']['blength']    = bl_IBS_end\n",
    "                dict_model_coupling['beam_{}'.format(beam_n)][interval]['at_end']['time_meas']  = filln_CycleDict['beam_{}'.format(beam_n)][interval]['at_end']['time_meas']    \n",
    "                \n",
    "            \n",
    "        print 'beam', beam_n\n",
    "        #print 'dex_noise:',dex_noisee,'dey_noise:',dey_noisee\n",
    "          \n",
    "#if c_fact_FB != 0:\n",
    "with gzip.open('/eos/user/s/stpapado/2018/runModel_forFill/saved_pkl/FlatBottom/fill_%d_model_FB_noCoupl.pkl.gz'%(filln), 'wb') as fid: #for noise dbpm k=1/2\n",
    "    print \"save pkl no coupling\"\n",
    "    pickle.dump(dict_model, fid)\n",
    "    \n",
    "if noiseGrowth:\n",
    "    with gzip.open('/eos/user/s/stpapado/2018/runModel_forFill/saved_pkl/FlatBottom/fill_%d_model_FB_CouplNoise2.pkl.gz'%(filln), 'wb') as fid: #for noise dbpm k=1/2\n",
    "        print \"save pkl with coupling & noise\"\n",
    "        pickle.dump(dict_model_coupling, fid)\n",
    "else:\n",
    "    with gzip.open('/eos/user/s/stpapado/2018/runModel_forFill/saved_pkl/FlatBottom/fill_%d_model_FB_Coupl2.pkl.gz'%(filln), 'wb') as fid: #for noise dbpm k=1/2\n",
    "        print \"save pkl with coupling\"\n",
    "        pickle.dump(dict_model_coupling, fid)"
   ]
  },
  {
   "cell_type": "code",
   "execution_count": null,
   "metadata": {},
   "outputs": [],
   "source": []
  }
 ],
 "metadata": {
  "kernelspec": {
   "display_name": "Python 2",
   "language": "python",
   "name": "python2"
  },
  "language_info": {
   "codemirror_mode": {
    "name": "ipython",
    "version": 2
   },
   "file_extension": ".py",
   "mimetype": "text/x-python",
   "name": "python",
   "nbconvert_exporter": "python",
   "pygments_lexer": "ipython2",
   "version": "2.7.16"
  }
 },
 "nbformat": 4,
 "nbformat_minor": 2
}
