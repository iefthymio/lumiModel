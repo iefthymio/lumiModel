{
 "cells": [
  {
   "cell_type": "code",
   "execution_count": null,
   "metadata": {},
   "outputs": [],
   "source": [
    "#last updated by Stefania on the 21/6/18\n",
    "import cmath\n",
    "from math import *\n",
    "import numpy as np\n",
    "import sys\n",
    "import matplotlib.pyplot as plt\n",
    "\n",
    "#gamma = 7460.54\n",
    "\n",
    "nIP = 2\n",
    "Np = 1.1e11\n",
    "nb = 2232\n",
    "L = 5e33*1e-4\n",
    "#beta_star_m = 80/100 \n",
    "\n",
    "sigma_el = 2.97e-26\n",
    "\n",
    "def dedtElastic(nIP, Np, nb, L, beta_star_m, sigma_el_m2):\n",
    "\n",
    "  L=L*1e-4\n",
    "  beta_star = beta_star_m*100\n",
    "  sigma_el = sigma_el_m2*1e4\n",
    "  #En = 13\t# energy [TeV]\n",
    "  B = 19.9\n",
    "  #P = 6500.\n",
    "\n",
    "  t = 1./B\n",
    "\n",
    "  #gamma = 6927.64\n",
    "  theta = np.sqrt(t/P**2)\n",
    "  theta_x = theta/sqrt(2.)\n",
    "\n",
    "  den_x_dt = 0.5*nIP*gamma*beta_star*theta_x**2*L*sigma_el/nb/Np\n",
    "  den_x_dt_mmmradpersec = den_x_dt*10*1000  \n",
    "\n",
    "  den_dt = 0.5*nIP*gamma*beta_star*theta**2*L*sigma_el/nb/Np\n",
    "  den_dt_mmmradpersec = den_dt*10*1000 \n",
    "\n",
    "  return den_x_dt_mmmradpersec*1e-6, den_dt_mmmradpersec*1e-6"
   ]
  }
 ],
 "metadata": {
  "kernelspec": {
   "display_name": "Python 2",
   "language": "python",
   "name": "python2"
  },
  "language_info": {
   "codemirror_mode": {
    "name": "ipython",
    "version": 2
   },
   "file_extension": ".py",
   "mimetype": "text/x-python",
   "name": "python",
   "nbconvert_exporter": "python",
   "pygments_lexer": "ipython2",
   "version": "2.7.16"
  }
 },
 "nbformat": 4,
 "nbformat_minor": 2
}
